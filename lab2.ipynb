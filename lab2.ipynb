{
 "cells": [
  {
   "cell_type": "markdown",
   "metadata": {},
   "source": [
    "# Лабораторная работа №2\n",
    "## Белоцкий Дмитрий 853504\n",
    "# Случайные события и их имитация"
   ]
  },
  {
   "cell_type": "code",
   "execution_count": 1,
   "metadata": {
    "pycharm": {
     "name": "#%%\n"
    }
   },
   "outputs": [],
   "source": [
    "import numpy as np\n",
    "import random"
   ]
  },
  {
   "cell_type": "markdown",
   "metadata": {},
   "source": [
    "## Задание 1. Имитация простого случайного события"
   ]
  },
  {
   "cell_type": "code",
   "execution_count": 2,
   "metadata": {
    "pycharm": {
     "name": "#%%\n"
    }
   },
   "outputs": [
    {
     "name": "stdout",
     "output_type": "stream",
     "text": [
      "Ожидание  Реальность\n",
      "0.1\t 0.100197\n",
      "0.5\t 0.500379\n",
      "0.7\t 0.699635\n"
     ]
    }
   ],
   "source": [
    "n = 10 ** 6\n",
    "\n",
    "def check(p):\n",
    "    def checkEvent(p):\n",
    "        val = random.random()\n",
    "        return val < p\n",
    "    count = 0\n",
    "    for i in range(n):\n",
    "        if checkEvent(p):\n",
    "            count += 1\n",
    "    return count\n",
    "\n",
    "print('Ожидание  Реальность')\n",
    "print('0.1\\t', check(0.1) / n)\n",
    "print('0.5\\t', check(0.5) / n)\n",
    "print('0.7\\t', check(0.7) / n)"
   ]
  },
  {
   "cell_type": "markdown",
   "metadata": {},
   "source": [
    "## Задание 2. Имитация сложного события"
   ]
  },
  {
   "cell_type": "code",
   "execution_count": 3,
   "metadata": {
    "pycharm": {
     "name": "#%%\n"
    }
   },
   "outputs": [
    {
     "name": "stdout",
     "output_type": "stream",
     "text": [
      "[0.1, 0.3, 0.6] -  [0.100007 0.300267 0.600111]\n",
      "[0.6, 0.4] -  [0.599856 0.400606]\n",
      "[0.9, 0.1] -  [0.900613 0.100088]\n"
     ]
    }
   ],
   "source": [
    "n = 10 ** 6\n",
    "def checkEvents(p_list):\n",
    "    def checkEvent(p):\n",
    "        val = random.random()\n",
    "        return val < p\n",
    "    \n",
    "    result = list()\n",
    "    for p in p_list:\n",
    "        result.append(checkEvent(p))\n",
    "        \n",
    "    return np.array(result, dtype=int)\n",
    "    \n",
    "\n",
    "def check(p_list):\n",
    "    count = checkEvents(p_list)\n",
    "    for i in range(n - 1):\n",
    "        count += checkEvents(p_list)\n",
    "    return count\n",
    "\n",
    "\n",
    "print('[0.1, 0.3, 0.6] - ', check([0.1, 0.3, 0.6]) / n)\n",
    "print('[0.6, 0.4] - ', check([0.6, 0.4]) / n)\n",
    "print('[0.9, 0.1] - ', check([0.9, 0.1]) / n)"
   ]
  },
  {
   "cell_type": "markdown",
   "metadata": {},
   "source": [
    "## Задание 3. Имитация сложного события, состоящего из зависимых событий"
   ]
  },
  {
   "cell_type": "code",
   "execution_count": 14,
   "metadata": {
    "pycharm": {
     "name": "#%%\n"
    }
   },
   "outputs": [
    {
     "name": "stdout",
     "output_type": "stream",
     "text": [
      "[0.03, 0.06999999999999999, 0.63, 0.2700000000000001]  -  [0.030044 0.069938 0.629614 0.270404]\n",
      "[0.24, 0.36, 0.24, 0.16000000000000003]  -  [0.23944  0.361404 0.239417 0.159739]\n",
      "[0.16000000000000003, 0.6400000000000001, 0.15999999999999998, 0.03999999999999998]  -  [0.159766 0.640516 0.159877 0.039841]\n"
     ]
    }
   ],
   "source": [
    "def checkEvent(p):\n",
    "        val = random.random()\n",
    "        return val < p\n",
    "\n",
    "def checkEvents(p_a, p_b_a):\n",
    "    result = np.array([0, 0, 0, 0])\n",
    "    if checkEvent(p_a):\n",
    "        if checkEvent(p_b_a):\n",
    "            result[0] = 1\n",
    "        else:\n",
    "            result[1] = 1\n",
    "    else:\n",
    "        if not checkEvent(p_b_a):\n",
    "            result[2] = 1\n",
    "        else:\n",
    "            result[3] = 1\n",
    "    return result\n",
    "\n",
    "\n",
    "def check(p_a, p_b_a):\n",
    "    n = 10 ** 6\n",
    "    count = checkEvents(p_a, p_b_a)\n",
    "    for i in range(n - 1):\n",
    "        count += checkEvents(p_a, p_b_a)\n",
    "    return count\n",
    "\n",
    "probabilities = [[0.1, 0.3], [0.6, 0.4], [0.8, 0.2]]\n",
    "for arr in probabilities:\n",
    "    p_a = arr[0]\n",
    "    p_not_a = 1 - p_a\n",
    "    p_b_a = arr[1]\n",
    "    p_b_not_a = 1 - p_b_a\n",
    "    p_b = p_a * p_b_a + p_not_a * p_b_not_a\n",
    "    p_not_b = 1 - p_b\n",
    "    print([p_a * p_b_a, p_a * (1 - p_b_a), p_not_a * p_b_not_a, p_not_a * (1 - p_b_not_a) ], ' - ', check(arr[0], arr[1]) / n)"
   ]
  },
  {
   "cell_type": "markdown",
   "metadata": {},
   "source": [
    "## Задание 4. Имитация событий, образующих полную группу"
   ]
  },
  {
   "cell_type": "code",
   "execution_count": 17,
   "metadata": {
    "pycharm": {
     "name": "#%%\n"
    }
   },
   "outputs": [
    {
     "name": "stdout",
     "output_type": "stream",
     "text": [
      "[0.100014 0.299658 0.600327]\n",
      "[0.599477 0.400522]\n",
      "[0.900347 0.099652]\n"
     ]
    }
   ],
   "source": [
    "def checkEvent(p_list):\n",
    "    val = random.random()\n",
    "    p_list = np.cumsum(p_list)\n",
    "    result = np.array([0] * len(p_list))\n",
    "    for i, p in enumerate(p_list):\n",
    "        if val <= p:\n",
    "            return i\n",
    "\n",
    "\n",
    "def check(p_list):\n",
    "    n = 10 ** 6\n",
    "    count = np.array([0] * len(p_list))\n",
    "    for i in range(n - 1):\n",
    "        count[checkEvent(p_list)] += 1\n",
    "    return count / n\n",
    "\n",
    "\n",
    "print(check([0.1, 0.3, 0.6]))\n",
    "print(check([0.6, 0.4]))\n",
    "print(check([0.9, 0.1]))"
   ]
  },
  {
   "cell_type": "markdown",
   "metadata": {},
   "source": [
    "## Дополнительное задание. Симулятор открытия наборов"
   ]
  },
  {
   "cell_type": "code",
   "execution_count": 2,
   "metadata": {
    "pycharm": {
     "name": "#%%\n"
    }
   },
   "outputs": [],
   "source": [
    "from enum import Enum"
   ]
  },
  {
   "cell_type": "code",
   "execution_count": 3,
   "metadata": {},
   "outputs": [],
   "source": [
    "class Rarity(Enum):\n",
    "        COMMON = 'Common'\n",
    "        RARE = 'Rare'\n",
    "        ULTRARARE = 'Ultra Rare!!!'\n",
    "        \n",
    "class Card():\n",
    "\n",
    "    def __init__(self, name, rarity):\n",
    "        self.rarity = rarity\n",
    "        self.name = name\n",
    "        \n",
    "    def __str__(self):\n",
    "        return 'Card {' + f\"Name: {self.name}, Rarity: {self.rarity.value}\" + '}'\n",
    "    "
   ]
  },
  {
   "cell_type": "code",
   "execution_count": 4,
   "metadata": {},
   "outputs": [],
   "source": [
    "class Pack():\n",
    "    def __init__(self, cards = []):\n",
    "        self.cards = cards\n",
    "        \n",
    "    def __str__(self):\n",
    "        str = 'Pack {'\n",
    "        for card in self.cards:\n",
    "            str += '\\n\\t' + card.__str__()\n",
    "        str += '\\n}'\n",
    "        return str\n",
    "    \n",
    "    def hasRare(self):\n",
    "        return len([card for card in self.cards if card.rarity is Rarity.RARE]) > 0\n",
    "    \n",
    "    def hasUltraRare(self):\n",
    "        return len([card for card in self.cards if card.rarity is Rarity.ULTRARARE]) > 0"
   ]
  },
  {
   "cell_type": "code",
   "execution_count": 5,
   "metadata": {
    "pycharm": {
     "name": "#%%\n"
    }
   },
   "outputs": [],
   "source": [
    "class CardGenerator():\n",
    "    ultraRareCards = [\n",
    "        Card('Lugia', Rarity.ULTRARARE),\n",
    "        Card('Articuno', Rarity.ULTRARARE),\n",
    "        Card('Zapdos', Rarity.ULTRARARE),\n",
    "        Card('Moltres', Rarity.ULTRARARE)\n",
    "    ]\n",
    "    rareCards = [\n",
    "        Card('Pickachu', Rarity.RARE),\n",
    "        Card('Snorlax', Rarity.RARE),\n",
    "        Card('Dragonite', Rarity.RARE),\n",
    "        Card('Torterra', Rarity.RARE),\n",
    "        Card('Inferneil', Rarity.RARE),\n",
    "        Card('Empoleon', Rarity.RARE),\n",
    "    ]\n",
    "    commonCards = [\n",
    "        Card('Pickachu', Rarity.COMMON),\n",
    "        Card('Bulbazaur', Rarity.COMMON),\n",
    "        Card('Charmander', Rarity.COMMON),\n",
    "        Card('Squirtle', Rarity.COMMON),\n",
    "        Card('Eevee', Rarity.COMMON),\n",
    "        Card('Caterpi', Rarity.COMMON),\n",
    "        Card('Weedle', Rarity.COMMON),\n",
    "        Card('Peedgy', Rarity.COMMON),\n",
    "        Card('Spirow', Rarity.COMMON),\n",
    "        Card('Ratata', Rarity.COMMON),\n",
    "    ]\n",
    "    \n",
    "    @staticmethod\n",
    "    def generateCard(rarity):\n",
    "        cards = []\n",
    "        if rarity == Rarity.COMMON:\n",
    "            cards = CardGenerator.commonCards\n",
    "        elif rarity == Rarity.RARE:\n",
    "            cards = CardGenerator.rareCards\n",
    "        elif rarity == Rarity.ULTRARARE:\n",
    "            cards = CardGenerator.ultraRareCards\n",
    "        val = random.random()\n",
    "        for i in range(len(cards)):\n",
    "            if (i + 1) / len(cards) >= val:\n",
    "                return cards[i]\n",
    "            \n",
    "class PackGenerator():\n",
    "    p_r = 0.2\n",
    "    p_ur = 0.05\n",
    "       \n",
    "    @staticmethod\n",
    "    def generatePack():\n",
    "        hasRare = random.random() < PackGenerator.p_r\n",
    "        hasUltraRare = random.random() < PackGenerator.p_ur\n",
    "        cards = []\n",
    "        if(hasRare):\n",
    "            cards.append(CardGenerator.generateCard(Rarity.RARE))\n",
    "        if(hasUltraRare):\n",
    "            cards.append(CardGenerator.generateCard(Rarity.ULTRARARE))\n",
    "        while len(cards) < 5:\n",
    "            cards.append(CardGenerator.generateCard(Rarity.COMMON))\n",
    "        random.shuffle(cards)\n",
    "        return Pack(cards)"
   ]
  },
  {
   "cell_type": "code",
   "execution_count": 14,
   "metadata": {},
   "outputs": [
    {
     "name": "stdout",
     "output_type": "stream",
     "text": [
      "Rare probability:  0.2008\n",
      "Ultra Rare probability:  0.0512\n",
      "Pack {\n",
      "\tCard {Name: Peedgy, Rarity: Common}\n",
      "\tCard {Name: Pickachu, Rarity: Common}\n",
      "\tCard {Name: Weedle, Rarity: Common}\n",
      "\tCard {Name: Charmander, Rarity: Common}\n",
      "\tCard {Name: Caterpi, Rarity: Common}\n",
      "}\n",
      "Pack {\n",
      "\tCard {Name: Charmander, Rarity: Common}\n",
      "\tCard {Name: Pickachu, Rarity: Common}\n",
      "\tCard {Name: Lugia, Rarity: Ultra Rare!!!}\n",
      "\tCard {Name: Charmander, Rarity: Common}\n",
      "\tCard {Name: Spirow, Rarity: Common}\n",
      "}\n",
      "Pack {\n",
      "\tCard {Name: Weedle, Rarity: Common}\n",
      "\tCard {Name: Ratata, Rarity: Common}\n",
      "\tCard {Name: Ratata, Rarity: Common}\n",
      "\tCard {Name: Ratata, Rarity: Common}\n",
      "\tCard {Name: Eevee, Rarity: Common}\n",
      "}\n",
      "Pack {\n",
      "\tCard {Name: Peedgy, Rarity: Common}\n",
      "\tCard {Name: Pickachu, Rarity: Common}\n",
      "\tCard {Name: Caterpi, Rarity: Common}\n",
      "\tCard {Name: Spirow, Rarity: Common}\n",
      "\tCard {Name: Moltres, Rarity: Ultra Rare!!!}\n",
      "}\n",
      "Pack {\n",
      "\tCard {Name: Spirow, Rarity: Common}\n",
      "\tCard {Name: Ratata, Rarity: Common}\n",
      "\tCard {Name: Pickachu, Rarity: Common}\n",
      "\tCard {Name: Spirow, Rarity: Common}\n",
      "\tCard {Name: Caterpi, Rarity: Common}\n",
      "}\n"
     ]
    }
   ],
   "source": [
    "packs = 10 ** 4\n",
    "packsWithRare = 0\n",
    "packsWithUltraRare = 0\n",
    "\n",
    "for i in range(packs):\n",
    "    pack = PackGenerator.generatePack()\n",
    "    if pack.hasRare():\n",
    "        packsWithRare += 1\n",
    "    if pack.hasUltraRare():\n",
    "        packsWithUltraRare += 1\n",
    "        \n",
    "print('Rare probability: ', packsWithRare / packs)\n",
    "print('Ultra Rare probability: ', packsWithUltraRare / packs)\n",
    "\n",
    "for i in range(5):\n",
    "    pack = PackGenerator.generatePack()\n",
    "    print(pack)\n",
    "    "
   ]
  }
 ],
 "metadata": {
  "kernelspec": {
   "display_name": "Python 3 (ipykernel)",
   "language": "python",
   "name": "python3"
  },
  "language_info": {
   "codemirror_mode": {
    "name": "ipython",
    "version": 3
   },
   "file_extension": ".py",
   "mimetype": "text/x-python",
   "name": "python",
   "nbconvert_exporter": "python",
   "pygments_lexer": "ipython3",
   "version": "3.8.5"
  }
 },
 "nbformat": 4,
 "nbformat_minor": 1
}