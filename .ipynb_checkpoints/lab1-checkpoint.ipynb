{
 "cells": [
  {
   "cell_type": "markdown",
   "metadata": {},
   "source": [
    "# Лабораторная работа №1\n",
    "## Белоцкий Дмитрий 853504\n",
    "# Построение и исследование характеристик датчиков базовых случайных величин"
   ]
  },
  {
   "cell_type": "code",
   "execution_count": 41,
   "metadata": {
    "pycharm": {
     "name": "#%%\n"
    }
   },
   "outputs": [],
   "source": [
    "import numpy as np\n",
    "import matplotlib.pyplot as plt\n",
    "import scipy.stats"
   ]
  },
  {
   "cell_type": "markdown",
   "metadata": {
    "pycharm": {
     "name": "#%% md\n"
    }
   },
   "source": [
    "## Задание 1. Метод середины квадрата"
   ]
  },
  {
   "cell_type": "code",
   "execution_count": 53,
   "metadata": {
    "pycharm": {
     "name": "#%%\n"
    }
   },
   "outputs": [],
   "source": [
    "def middleSquareGenerator(num):\n",
    "    def nextVal(prev, length):\n",
    "        square = prev * prev\n",
    "        next = str(square).rjust(length * 2, '0')[(length // 2): (length + length // 2)]\n",
    "        return int(next)\n",
    "\n",
    "    length = len(str(num))\n",
    "    while True:\n",
    "        yield num / 10 ** length\n",
    "        num = nextVal(num, length)"
   ]
  },
  {
   "cell_type": "code",
   "execution_count": 54,
   "metadata": {},
   "outputs": [],
   "source": [
    "def generateValues(num, n):\n",
    "    gen = middleSquareGenerator(num)\n",
    "    return [next(gen) for i in range(n)]\n",
    "\n",
    "def getHist(values, k):\n",
    "    x, y = list(), list()\n",
    "    for i in range(k):\n",
    "        y.append(len(list(filter(lambda x: i / k <= x < (i + 1) / k, values))) / len(values))\n",
    "        x.append(f'{(i +1 ) / k}')\n",
    "    return x, y"
   ]
  },
  {
   "cell_type": "code",
   "execution_count": 55,
   "metadata": {
    "pycharm": {
     "name": "#%%\n"
    }
   },
   "outputs": [
    {
     "data": {
      "image/png": "[encoded data removed]",
      "text/plain": [
       "<Figure size 432x288 with 1 Axes>"
      ]
     },
     "metadata": {
      "needs_background": "light"
     },
     "output_type": "display_data"
    }
   ],
   "source": [
    "values = np.array(generateValues(26042001, 1000))\n",
    "x, y = getHist(values, 8)\n",
    "plt.bar(x, y)\n",
    "plt.title('Равномерность')\n",
    "plt.show()"
   ]
  },
  {
   "cell_type": "code",
   "execution_count": 56,
   "metadata": {
    "pycharm": {
     "name": "#%%\n"
    }
   },
   "outputs": [
    {
     "data": {
      "image/png": "[encoded data removed]",
      "text/plain": [
       "<Figure size 432x288 with 1 Axes>"
      ]
     },
     "metadata": {
      "needs_background": "light"
     },
     "output_type": "display_data"
    }
   ],
   "source": [
    "num, length = 26042001, 100\n",
    "x, y = list(), list()\n",
    "s = 10\n",
    "for i in range(3):\n",
    "    values = np.array(generateValues(num, length))\n",
    "    v1 = values[s:]\n",
    "    v2 = values[:(-s)]\n",
    "    x.append(length)\n",
    "    y.append(scipy.stats.pearsonr(v1, v2)[0])\n",
    "    length = length * 5\n",
    "plt.plot(x, y, 'o')\n",
    "plt.title('Независимость')\n",
    "plt.show()"
   ]
  },
  {
   "cell_type": "markdown",
   "metadata": {},
   "source": [
    "## Задание 2. Мультипликативный конгруэнтный метод"
   ]
  },
  {
   "cell_type": "code",
   "execution_count": 57,
   "metadata": {
    "pycharm": {
     "name": "#%%\n"
    }
   },
   "outputs": [],
   "source": [
    "def multiplicativeCongruentGenerator(m, k, a0):\n",
    "    def nextValue(m, k, prev):\n",
    "        return (k * prev) % m\n",
    "    next = a0\n",
    "    while True:\n",
    "        yield next / m\n",
    "        next = nextValue(m, k, next)\n",
    "\n",
    "\n",
    "def generateValues(m, k, a0, n):\n",
    "    gen = multiplicativeCongruentGenerator(m, k, a0)\n",
    "    return [next(gen) for i in range(n)]"
   ]
  },
  {
   "cell_type": "code",
   "execution_count": 58,
   "metadata": {
    "pycharm": {
     "name": "#%%\n"
    }
   },
   "outputs": [],
   "source": [
    "m = 131072\n",
    "k = 131101\n",
    "a0 = 29"
   ]
  },
  {
   "cell_type": "code",
   "execution_count": 59,
   "metadata": {},
   "outputs": [
    {
     "data": {
      "image/png": "[encoded data removed]",
      "text/plain": [
       "<Figure size 432x288 with 1 Axes>"
      ]
     },
     "metadata": {
      "needs_background": "light"
     },
     "output_type": "display_data"
    }
   ],
   "source": [
    "values = np.array(generateValues(m, k, a0, 100000))\n",
    "x, y = getHist(values, 10)\n",
    "plt.bar(x, y)\n",
    "plt.title('Равномерность')\n",
    "plt.show()"
   ]
  },
  {
   "cell_type": "code",
   "execution_count": 60,
   "metadata": {},
   "outputs": [
    {
     "data": {
      "image/png": "[encoded data removed]",
      "text/plain": [
       "<Figure size 432x288 with 1 Axes>"
      ]
     },
     "metadata": {
      "needs_background": "light"
     },
     "output_type": "display_data"
    }
   ],
   "source": [
    "length = 100\n",
    "x, y = list(), list()\n",
    "s = 10\n",
    "for i in range(10):\n",
    "    values = np.array(generateValues(m, k, a0, length))\n",
    "    v1 = values[s:]\n",
    "    v2 = values[:(-s)]\n",
    "    x.append(length)\n",
    "    y.append(scipy.stats.pearsonr(v1, v2)[0])\n",
    "    length = length * 2\n",
    "plt.plot(x, y, 'o')\n",
    "plt.title('Независимость')\n",
    "plt.show()"
   ]
  },
  {
   "cell_type": "markdown",
   "metadata": {},
   "source": [
    "<b>Вывод</b>: датчик случайной величины, построенный мультипликтаивным конгруэнтным методом оказался более надежным, т.к. коэффициент корреляции при большом наборе данных близок к нулю, что не противоречит тому, что он независим, также по гистограмме видно, что СВ распределена равномера.  Главная сложность данного метода в правильном выборе параметров m и k. Метод середины квадрата имеет существенный недостаток - при генерации большого количества чисел, есть риск получить нули в середине каждого последующего числа."
   ]
  },
  {
   "cell_type": "code",
   "execution_count": null,
   "metadata": {},
   "outputs": [],
   "source": []
  }
 ],
 "metadata": {
  "kernelspec": {
   "display_name": "Python 3 (ipykernel)",
   "language": "python",
   "name": "python3"
  },
  "language_info": {
   "codemirror_mode": {
    "name": "ipython",
    "version": 3
   },
   "file_extension": ".py",
   "mimetype": "text/x-python",
   "name": "python",
   "nbconvert_exporter": "python",
   "pygments_lexer": "ipython3",
   "version": "3.8.5"
  }
 },
 "nbformat": 4,
 "nbformat_minor": 1
}
