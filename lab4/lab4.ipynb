{
 "cells": [
  {
   "cell_type": "markdown",
   "id": "0fd42f9f",
   "metadata": {},
   "source": [
    "# Лабoраторная работа 4\n",
    "## Белоцкий Дмитрий 853504\n",
    "# Сети Петри"
   ]
  },
  {
   "cell_type": "markdown",
   "id": "05802ad9",
   "metadata": {},
   "source": [
    "## Теоретические сведения:\n",
    "![](theory1.png)\n",
    "![](theory3.png)\n",
    "![](theory4.png)\n",
    "![](theory5.png)\n",
    "![](theory6.png)\n",
    "![](theory7.png)\n",
    "![](theory8.png)\n",
    "![](classification_theory_1.png)\n",
    "![](classification_theory_2.png)\n",
    "![](classification_theory_3.png)"
   ]
  },
  {
   "cell_type": "code",
   "execution_count": 123,
   "id": "bc0a5b23",
   "metadata": {},
   "outputs": [],
   "source": [
    "import networkx as nx\n",
    "import numpy as np\n",
    "import matplotlib.pyplot as plt"
   ]
  },
  {
   "cell_type": "code",
   "execution_count": 143,
   "id": "eb31e395",
   "metadata": {},
   "outputs": [],
   "source": [
    "def do_iterate(D_input, D_output, state_0):\n",
    "    def node_exist(g, state):\n",
    "        nodes = g.nodes\n",
    "        for node in nodes:\n",
    "            if node == state:\n",
    "                return True\n",
    "        return False\n",
    "\n",
    "    def check_if_infinite(g, state, infinite_set, count):\n",
    "        nodes = g.nodes\n",
    "\n",
    "        for node in nodes:\n",
    "            if nx.has_path(g, node, state):\n",
    "                for v1, v2 in zip(node, state):\n",
    "                    if v2 <= v1 or v1 == 0:\n",
    "                        break\n",
    "                    infinite_set.add(node)\n",
    "        count += 1\n",
    "        return count\n",
    "                    \n",
    "    D = D_output - D_input\n",
    "    states_to_check = list()\n",
    "    node_labels = dict()\n",
    "    state = state_0\n",
    "    state_graph = nx.DiGraph()\n",
    "    state_graph.add_node(state_0)\n",
    "    labels_count = 0\n",
    "    node_labels[state] = f'M{labels_count}:{state}'\n",
    "    states_to_check.append(state)\n",
    "    inifite_set = set()\n",
    "    is_infinite = False\n",
    "    max_count = 100\n",
    "    count = 0\n",
    "    while len(states_to_check) != 0:\n",
    "        state = states_to_check.pop(0)\n",
    "        vertex_to_add = []\n",
    "        for i, row in enumerate(D_input):\n",
    "            answer = state >= row\n",
    "            if np.all(state >= row):\n",
    "                new_state = tuple(state + D[i])\n",
    "                if node_exist(state_graph, tuple(new_state)):\n",
    "                    if not state_graph.has_edge(new_state, state):\n",
    "                        state_graph.add_edge(tuple(state), tuple(new_state), t=f\"t{i + 1}\")\n",
    "                        vertex_to_add.append(new_state)\n",
    "                else:\n",
    "                    labels_count += 1\n",
    "                    node_labels[new_state] = f'M{labels_count}:{new_state}'\n",
    "                    state_graph.add_edge(tuple(state), tuple(new_state), t=f\"t{i + 1}\")\n",
    "                    states_to_check.append(tuple(new_state))\n",
    "                    vertex_to_add.append(new_state)\n",
    "                count = check_if_infinite(state_graph, tuple(new_state), inifite_set, count)\n",
    "                if count > max_count:\n",
    "                    is_infinite = True\n",
    "                    G = nx.relabel_nodes(state_graph, node_labels)\n",
    "                    return state_graph, G, is_infinite\n",
    "    G = nx.relabel_nodes(state_graph, node_labels)\n",
    "    return state_graph, G, inifite_set"
   ]
  },
  {
   "cell_type": "code",
   "execution_count": 125,
   "id": "37438a5e",
   "metadata": {},
   "outputs": [],
   "source": [
    "def is_live(G):\n",
    "    for node in G.nodes:\n",
    "        if len(list(G.neighbors(node))) == 0:\n",
    "            return False\n",
    "    else:\n",
    "        return True\n",
    "    \n",
    "def is_bounded(G, infinity_nodes):\n",
    "    if len(infinity_nodes) != 0:\n",
    "        return np.inf\n",
    "    nodes = G.nodes\n",
    "    return max([max(node) for node in nodes])\n",
    "\n",
    "def is_conservative(G):\n",
    "    sums = [sum(node) for node in G.nodes]\n",
    "    return len(set(sums)) == 1\n",
    "\n",
    "def is_reachable(G, state_0):\n",
    "    for node in G.nodes:\n",
    "        if len(list(G.neighbors(node))) == 0:\n",
    "            for path in nx.all_simple_edge_paths(G, state_0, node):\n",
    "                for edge in path:\n",
    "                    src = edge[0]\n",
    "                    dst = edge[1]\n",
    "                    print(str(src) + \" - \" + str(dst) + \" :: \" + str(G.get_edge_data(edge[0], edge[1])[edge[2]]))\n",
    "                    \n",
    "def has_parallel_transition(G, D_input):\n",
    "    for node in G.nodes:\n",
    "        neighbors = G.neighbors(node)\n",
    "        if len(list(neighbors)) < 2:\n",
    "            continue\n",
    "        for i in range(np.shape(D_input)[0]):\n",
    "            new_state = np.array(node) - D_input[i]\n",
    "            if np.any(new_state < 0):\n",
    "                continue\n",
    "            for j in range(i + 1, np.shape(D_input)[0]):\n",
    "                if np.all((new_state - D_input[j]) >= 0):\n",
    "                    print(\n",
    "                        f'Параллельное срабатывание возможно: Из состояния {node} c помощью переходов t{i + 1} t{j + 1}')\n",
    "                    return\n",
    "    print('Параллельное срабатывание невозможно')\n",
    "    \n",
    "def can_be_reachable(G, source, target):\n",
    "    return nx.has_path(G, source, target)"
   ]
  },
  {
   "cell_type": "code",
   "execution_count": 126,
   "id": "fcc3e1b9",
   "metadata": {},
   "outputs": [],
   "source": [
    "def is_free_choice_net(D_input):\n",
    "    for i in range(np.shape(D_input)[1]):\n",
    "        if sum(D_input[:, i]) != 1:\n",
    "            for j, v in enumerate(D_input[:, i]):\n",
    "                if v == 0:\n",
    "                    continue\n",
    "                if (sum(D_input[j])) != 1:\n",
    "                    return False\n",
    "    return True\n",
    "\n",
    "def is_marked_graph(D_input, D_output):\n",
    "    for i in range(np.shape(D_input)[1]):\n",
    "        if sum(D_input[:, i]) != 1 or sum(D_output[:, i]) != 1:\n",
    "            return False\n",
    "    return True"
   ]
  },
  {
   "cell_type": "markdown",
   "id": "cfa52224",
   "metadata": {},
   "source": [
    "<h1> Сеть Петри №1 </h1>\n",
    "<p style='font-size:20px;'> Условие + Визуализация сети с сайта http://petri.hp102.ru/pnet.html <p>\n",
    "<img style=\"width:400px;float:left;\" src='petri_net_1.png'/>\n",
    "<img style=\"width:400px;\" src='pnet1.png'/>"
   ]
  },
  {
   "cell_type": "markdown",
   "id": "59f89764",
   "metadata": {},
   "source": [
    "## Инициализация сети (матрица входов и выходов, начальное состояние)"
   ]
  },
  {
   "cell_type": "code",
   "execution_count": 128,
   "id": "cc03613f",
   "metadata": {},
   "outputs": [],
   "source": [
    "D_input = np.array([\n",
    "    [0, 0, 0, 1, 0],\n",
    "    [1, 1, 0, 0, 0],\n",
    "    [0, 0, 1, 0, 0],\n",
    "    [0, 0, 0, 1, 0]])\n",
    "D_output = np.array([\n",
    "    [1, 0, 0, 0, 0],\n",
    "    [0, 0, 1, 1, 0],\n",
    "    [0, 1, 0, 0, 0],\n",
    "    [0, 0, 0, 0, 1]])\n",
    "nu_0 = (0, 0, 1, 1, 0)"
   ]
  },
  {
   "cell_type": "markdown",
   "id": "48d65a32",
   "metadata": {},
   "source": [
    "## Описание свойств сети, граф состояний"
   ]
  },
  {
   "cell_type": "code",
   "execution_count": 129,
   "id": "d402a430",
   "metadata": {},
   "outputs": [
    {
     "name": "stdout",
     "output_type": "stream",
     "text": [
      "=======1 сеть=======\n",
      "Является живой: False\n",
      "Является ограниченной. K=1\n",
      "Является консервативной: True\n",
      "Является сетью свободного выбора: True\n",
      "Параллельное срабатывание возможно: Из состояния (0, 0, 1, 1, 0) c помощью переходов t1 t3\n"
     ]
    },
    {
     "data": {
      "image/png": "[encoded data removed]",
      "text/plain": [
       "<Figure size 432x288 with 1 Axes>"
      ]
     },
     "metadata": {},
     "output_type": "display_data"
    }
   ],
   "source": [
    "g, G, infinity = do_iterate(D_input, D_output, nu_0)\n",
    "print(\"=======1 сеть=======\")\n",
    "print(f\"Является живой: {is_live(g)}\")\n",
    "print(f'Является ограниченной. K={is_bounded(g, infinity)}')\n",
    "print(f'Является консервативной: {is_conservative(g)}')\n",
    "print(f'Является сетью свободного выбора: {is_free_choice_net(D_input)}')\n",
    "has_parallel_transition(g, D_input)\n",
    "edge_labels = dict([((n1, n2), d['t']) for n1, n2, d in G.edges(data=True)])\n",
    "pos = nx.kamada_kawai_layout(G)\n",
    "nx.draw(G, pos, with_labels=True)\n",
    "nx.draw_networkx_edge_labels(G, pos, edge_labels=edge_labels)\n",
    "plt.show()"
   ]
  },
  {
   "cell_type": "markdown",
   "id": "b313cd88",
   "metadata": {},
   "source": [
    "<h1> Сеть Петри №2</h1>\n",
    "<p style='font-size:20px;'> Условие + Визуализация сети с сайта http://petri.hp102.ru/pnet.html <p>\n",
    "<img style=\"width:400px;float:left;\" src='petri_net_2.png'/>\n",
    "<img style=\"width:400px;\" src='pnet2.png'/>"
   ]
  },
  {
   "cell_type": "markdown",
   "id": "51b569cc",
   "metadata": {},
   "source": [
    "## Инициализация сети"
   ]
  },
  {
   "cell_type": "code",
   "execution_count": 120,
   "id": "cea8a7cb",
   "metadata": {},
   "outputs": [],
   "source": [
    "D_input = np.array([\n",
    "    [1, 0, 0, 0, 0, 0],\n",
    "    [0, 1, 0, 0, 0, 0],\n",
    "    [0, 0, 1, 0, 0, 0],\n",
    "    [0, 0, 0, 1, 1, 1]])\n",
    "D_output = np.array([\n",
    "    [0, 1, 1, 0, 0, 1],\n",
    "    [0, 0, 0, 1, 0, 0],\n",
    "    [0, 0, 0, 0, 1, 0],\n",
    "    [1, 0, 0, 0, 0, 0]])\n",
    "\n",
    "nu_0 = (1, 0, 0, 0, 0, 1)"
   ]
  },
  {
   "cell_type": "markdown",
   "id": "07af52ad",
   "metadata": {},
   "source": [
    "## Описание свойств сети, граф состояний"
   ]
  },
  {
   "cell_type": "code",
   "execution_count": 121,
   "id": "982a5488",
   "metadata": {},
   "outputs": [
    {
     "name": "stdout",
     "output_type": "stream",
     "text": [
      "=======2 сеть=======\n",
      "Является живой: True\n",
      "Является ограниченной. K=2\n",
      "Является консервативной: False\n",
      "Параллельное срабатывание возможно: Из состояния (0, 1, 1, 0, 0, 2) c помощью переходов t2 t3\n",
      "является маркерованным графом True\n"
     ]
    },
    {
     "data": {
      "image/png": "[encoded data removed]",
      "text/plain": [
       "<Figure size 432x288 with 1 Axes>"
      ]
     },
     "metadata": {},
     "output_type": "display_data"
    }
   ],
   "source": [
    "g, G, ininity = do_iterate(D_input, D_output, nu_0)\n",
    "print(\"=======2 сеть=======\")\n",
    "print(f\"Является живой: {is_live(g)}\")\n",
    "print(f'Является ограниченной. K={is_bounded(g, ininity)}')\n",
    "print(f'Является консервативной: {is_conservative(g)}')\n",
    "has_parallel_transition(g, D_input)\n",
    "print(f'является маркерованным графом {is_marked_graph(D_input, D_output)}')\n",
    "edge_labels = dict([((n1, n2), d['t'])\n",
    "                    for n1, n2, d in G.edges(data=True)])\n",
    "pos = nx.kamada_kawai_layout(G)\n",
    "nx.draw(G, pos, with_labels=True)\n",
    "nx.draw_networkx_edge_labels(G, pos, edge_labels=edge_labels)\n",
    "plt.show()"
   ]
  },
  {
   "cell_type": "code",
   "execution_count": null,
   "id": "ca4ee4cc",
   "metadata": {},
   "outputs": [],
   "source": []
  }
 ],
 "metadata": {
  "kernelspec": {
   "display_name": "Python 3",
   "language": "python",
   "name": "python3"
  },
  "language_info": {
   "codemirror_mode": {
    "name": "ipython",
    "version": 3
   },
   "file_extension": ".py",
   "mimetype": "text/x-python",
   "name": "python",
   "nbconvert_exporter": "python",
   "pygments_lexer": "ipython3",
   "version": "3.8.8"
  }
 },
 "nbformat": 4,
 "nbformat_minor": 5
}
